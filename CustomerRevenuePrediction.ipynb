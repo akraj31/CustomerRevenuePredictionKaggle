{
 "cells": [
  {
   "cell_type": "code",
   "execution_count": 226,
   "metadata": {},
   "outputs": [],
   "source": [
    "# all required imports\n",
    "import numpy as np\n",
    "import pandas as pd\n",
    "from geopy.distance import geodesic\n",
    "import json\n",
    "import os\n",
    "import sys\n",
    "import math\n",
    "import random\n",
    "import datetime\n",
    "import scipy as sp\n",
    "from scipy.stats.stats import pearsonr\n",
    "import matplotlib.pyplot as plt\n",
    "import seaborn as sns\n",
    "from sklearn.linear_model import LinearRegression\n",
    "from sklearn.neighbors import KNeighborsRegressor\n",
    "from sklearn.ensemble import RandomForestRegressor\n",
    "from sklearn.svm import SVR\n",
    "from sklearn.metrics import mean_squared_error, r2_score"
   ]
  },
  {
   "cell_type": "code",
   "execution_count": 227,
   "metadata": {},
   "outputs": [],
   "source": [
    "#reading the training data and test data\n",
    "lines_percent = 1\n",
    "train_data = pd.read_csv(\"./Data/train_small.csv\", low_memory=False, error_bad_lines=False, \n",
    "                         header=0, skiprows=lambda i: i>0 and random.random() > lines_percent)\n",
    "\n",
    "#test_data = pd.read_csv(\"./Data/test.csv\", usecols=range(0,7), low_memory=False, error_bad_lines=False)"
   ]
  },
  {
   "cell_type": "code",
   "execution_count": 228,
   "metadata": {},
   "outputs": [
    {
     "name": "stdout",
     "output_type": "stream",
     "text": [
      "New column added: 'browser'\n",
      "New column added: 'browserVersion'\n",
      "New column added: 'browserSize'\n",
      "New column added: 'operatingSystem'\n",
      "New column added: 'operatingSystemVersion'\n",
      "New column added: 'isMobile'\n",
      "New column added: 'mobileDeviceBranding'\n",
      "New column added: 'mobileDeviceModel'\n",
      "New column added: 'mobileInputSelector'\n",
      "New column added: 'mobileDeviceInfo'\n",
      "New column added: 'mobileDeviceMarketingName'\n",
      "New column added: 'flashVersion'\n",
      "New column added: 'language'\n",
      "New column added: 'screenColors'\n",
      "New column added: 'screenResolution'\n",
      "New column added: 'deviceCategory'\n",
      "New column added: 'continent'\n",
      "New column added: 'subContinent'\n",
      "New column added: 'country'\n",
      "New column added: 'region'\n",
      "New column added: 'metro'\n",
      "New column added: 'city'\n",
      "New column added: 'cityId'\n",
      "New column added: 'networkDomain'\n",
      "New column added: 'latitude'\n",
      "New column added: 'longitude'\n",
      "New column added: 'networkLocation'\n",
      "New column added: 'visits'\n",
      "New column added: 'hits'\n",
      "New column added: 'pageviews'\n",
      "New column added: 'bounces'\n",
      "New column added: 'newVisits'\n",
      "New column added: 'campaign'\n",
      "New column added: 'source'\n",
      "New column added: 'medium'\n",
      "New column added: 'keyword'\n",
      "New column added: 'adwordsClickInfo'\n"
     ]
    }
   ],
   "source": [
    "# adding new columns for json data columns\n",
    "\n",
    "json_cols = ['device', 'geoNetwork', 'totals', 'trafficSource']\n",
    "\n",
    "#parse if valid json and return value for key\n",
    "def get_value(jstr, key):\n",
    "    try:\n",
    "        val = jstr\n",
    "        if type(jstr) != dict:\n",
    "            val = json.loads(jstr)\n",
    "        return val[key]\n",
    "    except:\n",
    "        return None\n",
    "\n",
    "# add new columns for each key in the json\n",
    "def add_json_keys_as_new_columns(col_name):\n",
    "    if type(train_data[col_name][0]) != dict:\n",
    "        device_col_keys = json.loads(train_data[col_name][0]).keys()\n",
    "    else:\n",
    "        device_col_keys = train_data[col_name][0].keys()\n",
    "    for key in device_col_keys:\n",
    "        print(\"New column added: '%s'\" % (key))\n",
    "        train_data[key] = train_data[col_name].apply(lambda jstr: get_value(jstr, key))\n",
    "    del train_data[col_name]\n",
    "\n",
    "for col in json_cols:\n",
    "    add_json_keys_as_new_columns(col)\n",
    "    "
   ]
  },
  {
   "cell_type": "code",
   "execution_count": 229,
   "metadata": {},
   "outputs": [],
   "source": [
    "# deleting columns whose values are censored\n",
    "\n",
    "col_to_del = ['adwordsClickInfo', 'browserVersion', 'browserSize', 'networkLocation', 'operatingSystemVersion', \n",
    "              'longitude', 'latitude']\n",
    "\n",
    "for col_name in col_to_del:\n",
    "    del train_data[col_name]"
   ]
  },
  {
   "cell_type": "code",
   "execution_count": 230,
   "metadata": {},
   "outputs": [
    {
     "name": "stdout",
     "output_type": "stream",
     "text": [
      "['Not Socially Engaged']\n",
      "Deleted: 'socialEngagementType'\n"
     ]
    }
   ],
   "source": [
    "# deleting columns with just one unique\n",
    "\n",
    "col_with_one_unique_val = ['socialEngagementType'] # checked: ['campaign', 'source', 'medium']\n",
    "\n",
    "for col_name in col_with_one_unique_val:\n",
    "    print(train_data[col_name].unique())\n",
    "    if len(train_data[col_name].unique()) == 1:\n",
    "        print(\"Deleted: '%s'\" % (col_name))\n",
    "        del train_data[col_name]"
   ]
  },
  {
   "cell_type": "code",
   "execution_count": 231,
   "metadata": {},
   "outputs": [],
   "source": [
    "# functions to map string to int\n",
    "\n",
    "unique_val_map = {}\n",
    "\n",
    "def map_channel_grouping(column_name):\n",
    "    if column_name not in unique_val_map:\n",
    "        unique_val = train_data[column_name].unique()\n",
    "        unique_val_map[column_name] = {}\n",
    "        for i in range(len(unique_val)):\n",
    "            unique_val_map[column_name][unique_val[i]] = i\n",
    "    print(\"Mapped Values:\")\n",
    "    print(unique_val_map[column_name])\n",
    "    train_data.channelGrouping = train_data[column_name].apply(lambda val: unique_val_map[column_name][val])"
   ]
  },
  {
   "cell_type": "code",
   "execution_count": 232,
   "metadata": {},
   "outputs": [
    {
     "name": "stdout",
     "output_type": "stream",
     "text": [
      "Mapped Values:\n",
      "{'Organic Search': 0, 'Referral': 1, 'Paid Search': 2, 'Affiliates': 3, 'Direct': 4, 'Display': 5}\n"
     ]
    }
   ],
   "source": [
    "# mapping values of columns having string values to int\n",
    "\n",
    "col_to_map = ['channelGrouping']\n",
    "\n",
    "for col_name in col_to_map:\n",
    "    map_channel_grouping(col_name)"
   ]
  },
  {
   "cell_type": "code",
   "execution_count": 234,
   "metadata": {},
   "outputs": [
    {
     "data": {
      "text/plain": [
       "array([0, 20160902, 1.13166e+18, '1131660440785968503_1472830385',\n",
       "       1472830385, 1, 1472830385, 'Chrome', 'Windows', False,\n",
       "       'not available in demo dataset', 'not available in demo dataset',\n",
       "       'not available in demo dataset', 'not available in demo dataset',\n",
       "       'not available in demo dataset', 'not available in demo dataset',\n",
       "       'not available in demo dataset', 'not available in demo dataset',\n",
       "       'not available in demo dataset', 'desktop', 'Asia', 'Western Asia',\n",
       "       'Turkey', 'Izmir', '(not set)', 'Izmir',\n",
       "       'not available in demo dataset', 'ttnet.com.tr', '1', '1', '1',\n",
       "       '1', '1', '(not set)', 'google', 'organic', '(not provided)'],\n",
       "      dtype=object)"
      ]
     },
     "execution_count": 234,
     "metadata": {},
     "output_type": "execute_result"
    }
   ],
   "source": [
    "#print(train_data_copy.head())\n",
    "#print(train_data.visitNumber.unique())\n",
    "#train_data.describe().transpose()\n",
    "#train_data.info()\n",
    "#train_data['adwordsClickInfo'][0]\n",
    "train_data.values[0]"
   ]
  },
  {
   "cell_type": "code",
   "execution_count": null,
   "metadata": {},
   "outputs": [],
   "source": []
  }
 ],
 "metadata": {
  "kernelspec": {
   "display_name": "Python 3",
   "language": "python",
   "name": "python3"
  },
  "language_info": {
   "codemirror_mode": {
    "name": "ipython",
    "version": 3
   },
   "file_extension": ".py",
   "mimetype": "text/x-python",
   "name": "python",
   "nbconvert_exporter": "python",
   "pygments_lexer": "ipython3",
   "version": "3.6.5"
  }
 },
 "nbformat": 4,
 "nbformat_minor": 2
}
